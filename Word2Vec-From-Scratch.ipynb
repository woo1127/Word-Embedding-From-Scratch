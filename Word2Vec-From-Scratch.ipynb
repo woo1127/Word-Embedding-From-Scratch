{
 "cells": [
  {
   "cell_type": "code",
   "execution_count": 13,
   "metadata": {},
   "outputs": [],
   "source": [
    "import numpy as np\n",
    "import string\n",
    "import matplotlib.pyplot as plt\n",
    "\n",
    "%matplotlib inline\n",
    "plt.style.use('seaborn')\n",
    "\n",
    "np.random.seed(1011)\n",
    "np.set_printoptions(suppress=True)"
   ]
  },
  {
   "cell_type": "code",
   "execution_count": 14,
   "metadata": {},
   "outputs": [],
   "source": [
    "with open('dataset.txt', 'r') as file:\n",
    "    text = file.read()"
   ]
  },
  {
   "cell_type": "code",
   "execution_count": 25,
   "metadata": {},
   "outputs": [
    {
     "data": {
      "text/plain": [
       "'In natural language processing (NLP), word embedding is a term used for the representation of words for text analysis, typically in the form of a real-valued vector that encodes the meaning of the word such that the words that are closer in the vector space are expected to be similar in meaning.Word embeddings can be obtained using a set of language modeling and feature learning techniques where words or phrases from the vocabulary are mapped to vectors of real numbers.Methods to generate this mapping include neural networks,dimensionality reduction on the word co-occurrence matrix, probabilistic models, explainable knowledge base method, and explicit representation in terms of the context in which words appear.Word and phrase embeddings, when used as the underlying input representation, have been shown to boost the performance in NLP tasks such as syntactic parsing and sentiment analysis.'"
      ]
     },
     "execution_count": 25,
     "metadata": {},
     "output_type": "execute_result"
    }
   ],
   "source": [
    "text"
   ]
  },
  {
   "cell_type": "code",
   "execution_count": 15,
   "metadata": {},
   "outputs": [],
   "source": [
    "def tokenize(input_string):\n",
    "    '''\n",
    "    Tokenize the training data. Punctuation is removed and \n",
    "    each words in the training data is split as a elements in a list.\n",
    "    '''\n",
    "    tokens = ''.join([char \n",
    "                        for char in input_string.lower() \n",
    "                        if char not in string.punctuation])\n",
    "    return tokens.split(' ')\n",
    "\n",
    "def text_dictionary(tokens):\n",
    "    '''\n",
    "    Create two dictionary named word_to_idx and idx_to_word.\n",
    "    In word_to_idx each word is as key with a assigned unique id as value.\n",
    "    idx_to_word is same as word_to_idx except that id is as key and word as value\n",
    "    '''\n",
    "    word_to_idx = {}\n",
    "    idx_to_word = {}\n",
    "\n",
    "    # turn the tokens into set before looping to remove duplicate words\n",
    "    for i, token in enumerate(set(tokens)):\n",
    "        word_to_idx[token] = i\n",
    "        idx_to_word[i] = token\n",
    "\n",
    "    return word_to_idx, idx_to_word\n",
    "\n",
    "def concat(*iterables):\n",
    "    for iterable in iterables:\n",
    "        yield from iterable\n",
    "\n",
    "def one_hot_encode(id, vocab_size):\n",
    "    '''\n",
    "    Transform a word into one-hot representation\n",
    "    '''\n",
    "    # A list with the same length as vocab_size is initialize with all zeros elements\n",
    "    # except value of the corresponding index of word is 1\n",
    "    res = [0] * vocab_size\n",
    "    res[id] = 1\n",
    "    return res\n",
    "\n",
    "def generate_training_data(tokens, word_to_idx, window):\n",
    "    '''\n",
    "    Generate x, y dataset for our skip-gram model.\n",
    "    x and y are both the one-hot representation of words.\n",
    "    '''\n",
    "    x, y = [], []\n",
    "    n_tokens = len(tokens)\n",
    "\n",
    "    for i in range(n_tokens):\n",
    "        idx = concat(\n",
    "            range(max(0, i - window), i),\n",
    "            range(i, min(n_tokens, i + window + 1))\n",
    "        )\n",
    "        for j in idx:\n",
    "            if i == j:\n",
    "                continue\n",
    "            x.append(one_hot_encode(word_to_idx[tokens[i]], len(word_to_idx)))\n",
    "            y.append(one_hot_encode(word_to_idx[tokens[j]], len(word_to_idx)))\n",
    "\n",
    "    return np.asarray(x), np.asarray(y)"
   ]
  },
  {
   "cell_type": "code",
   "execution_count": 16,
   "metadata": {},
   "outputs": [
    {
     "data": {
      "text/plain": [
       "((546, 88), (546, 88))"
      ]
     },
     "execution_count": 16,
     "metadata": {},
     "output_type": "execute_result"
    }
   ],
   "source": [
    "tokens = tokenize(text)\n",
    "word_to_idx, idx_to_word = text_dictionary(tokens)\n",
    "x, y = generate_training_data(tokens, word_to_idx, 2)\n",
    "\n",
    "x.shape, y.shape"
   ]
  },
  {
   "cell_type": "code",
   "execution_count": 24,
   "metadata": {},
   "outputs": [
    {
     "data": {
      "text/plain": [
       "['in',\n",
       " 'natural',\n",
       " 'language',\n",
       " 'processing',\n",
       " 'nlp',\n",
       " 'word',\n",
       " 'embedding',\n",
       " 'is',\n",
       " 'a',\n",
       " 'term']"
      ]
     },
     "execution_count": 24,
     "metadata": {},
     "output_type": "execute_result"
    }
   ],
   "source": [
    "tokens[:10]"
   ]
  },
  {
   "cell_type": "markdown",
   "metadata": {},
   "source": [
    "Forward:\n",
    "\n",
    "&nbsp;&nbsp;&nbsp;&nbsp; $A_1 = X W_1$ <br>\n",
    "&nbsp;&nbsp;&nbsp;&nbsp; $A_2 = A_1 W_2$ <br>\n",
    "&nbsp;&nbsp;&nbsp;&nbsp; $Z = Softmax(A_2)$\n",
    "\n",
    "Backward: \n",
    "##### &nbsp;&nbsp;&nbsp;&nbsp; $\\frac{dL}{dW_2} = \\frac{dL}{dZ} \\frac{dZ}{dA_2} \\frac{dA_2}{dW_2} = (Z - Y) * A_1$\n",
    "##### &nbsp;&nbsp;&nbsp;&nbsp; $\\frac{dL}{dW_1} = \\frac{dL}{dZ} \\frac{dZ}{dA_2} \\frac{dA_2}{dA_1} \\frac{dA_1}{dW_1} = (Z - Y) * W_2 * X$\n"
   ]
  },
  {
   "cell_type": "code",
   "execution_count": 18,
   "metadata": {},
   "outputs": [],
   "source": [
    "class SkipGram:\n",
    "\n",
    "    def __init__(self, vocab_size, n_embedding):\n",
    "        self.loss_history = []\n",
    "        self.vocab_size = vocab_size\n",
    "        self.n_embedding = n_embedding\n",
    "\n",
    "    def init_weights(self):\n",
    "        self.w1 = np.random.randn(self.vocab_size, self.n_embedding)\n",
    "        self.w2 = np.random.randn(self.n_embedding, self.vocab_size)\n",
    "\n",
    "    def softmax(self, z):\n",
    "        # minus z by the max of z for number stability\n",
    "        # keepdims is set to true to unchange the dimensional of array\n",
    "        exp = np.exp(z - np.max(z, axis=1, keepdims=True))\n",
    "        return exp / np.sum(exp, axis=1, keepdims=True)\n",
    "\n",
    "    def forward(self, x):\n",
    "        self.a1 = np.dot(x, self.w1)\n",
    "        self.a2 = np.dot(self.a1, self.w2)\n",
    "        self.z = self.softmax(self.a2)\n",
    "        return self.z\n",
    "\n",
    "    def backward(self, x, y):\n",
    "        self.da2 = self.z - y\n",
    "        self.dw2 = np.dot(self.a1.T, self.da2)\n",
    "        self.da1 = np.dot(self.da2, self.w2.T)\n",
    "        self.dw1 = np.dot(x.T, self.da1)\n",
    "\n",
    "    def update(self, lr): # SGD\n",
    "        self.w1 -= lr * self.dw1\n",
    "        self.w2 -= lr * self.dw2\n",
    "\n",
    "    def loss(self, y, m): # cross_entropy\n",
    "        self.loss_history.append(- np.sum(np.log(self.z) * y) / m)\n",
    "\n",
    "    def fit(self, x, y, epochs, lr):\n",
    "        m = x.shape[0]\n",
    "        self.init_weights()\n",
    "        for _ in range(epochs):\n",
    "            self.forward(x)\n",
    "            self.backward(x, y)\n",
    "            self.update(lr)\n",
    "            self.loss(y, m)\n",
    "\n",
    "    def predict(self, x):\n",
    "        return self.forward(x)"
   ]
  },
  {
   "cell_type": "code",
   "execution_count": 19,
   "metadata": {},
   "outputs": [],
   "source": [
    "epochs = 50\n",
    "lr = 0.05\n",
    "\n",
    "model = SkipGram(x.shape[1], 10)\n",
    "model.fit(x, y, epochs, lr)"
   ]
  },
  {
   "cell_type": "code",
   "execution_count": 20,
   "metadata": {},
   "outputs": [
    {
     "data": {
      "image/png": "[encoded data removed]",
      "text/plain": [
       "<Figure size 800x550 with 1 Axes>"
      ]
     },
     "metadata": {},
     "output_type": "display_data"
    }
   ],
   "source": [
    "plt.plot(range(epochs), model.loss_history, color='orange')\n",
    "plt.xlabel('Loss')\n",
    "plt.ylabel('Epochs')\n",
    "plt.show()"
   ]
  },
  {
   "cell_type": "code",
   "execution_count": 22,
   "metadata": {},
   "outputs": [
    {
     "data": {
      "text/plain": [
       "{'word': 0.2695655729724808,\n",
       " 'a': 0.26706942822104507,\n",
       " 'nlp': 0.20189778506039668,\n",
       " 'is': 0.14679834895497545,\n",
       " 'processing': 0.0423841180126899,\n",
       " 'embedding': 0.03432841269033098,\n",
       " 'matrix': 0.008050356059094781,\n",
       " 'cooccurrence': 0.007219123978646058,\n",
       " 'term': 0.006492888430992856,\n",
       " 'on': 0.004130668182132627,\n",
       " 'for': 0.0035562015237388073,\n",
       " 'reduction': 0.0013176907260977653,\n",
       " 'used': 0.0010841031947793891,\n",
       " 'natural': 0.0006296353372476191,\n",
       " 'meaning': 0.00059801740485638,\n",
       " 'of': 0.0005411512358401025,\n",
       " 'networksdimensionality': 0.00045959222908866914,\n",
       " 'set': 0.00042544675462676657,\n",
       " 'include': 0.0003684159516263278,\n",
       " 'using': 0.00027616401968012604,\n",
       " 'form': 0.0002761029822345577,\n",
       " 'as': 0.00025156459643477057,\n",
       " 'language': 0.00021157658372217693,\n",
       " 'neural': 0.00020727248721613716,\n",
       " 'such': 0.00018450749480527798,\n",
       " 'realvalued': 0.00014176890661306496,\n",
       " 'underlying': 0.00013780515834164878,\n",
       " 'this': 0.0001253754125888213,\n",
       " 'can': 0.00012330440731480523,\n",
       " 'when': 0.0001221466739734126,\n",
       " 'numbersmethods': 0.00011455153027478789,\n",
       " 'input': 0.00011242425841158841,\n",
       " 'vector': 0.00011028075702856678,\n",
       " 'mapping': 8.84980606732941e-05,\n",
       " 'explainable': 7.987714008196628e-05,\n",
       " 'that': 7.836772320306737e-05,\n",
       " 'terms': 7.304937748290438e-05,\n",
       " 'the': 4.841925721607668e-05,\n",
       " 'context': 4.549637215448297e-05,\n",
       " 'tasks': 3.968534557662636e-05,\n",
       " 'typically': 3.288497297241891e-05,\n",
       " 'models': 3.148892299665804e-05,\n",
       " 'generate': 2.691658843135374e-05,\n",
       " 'encodes': 2.2707663077986132e-05,\n",
       " 'in': 1.419683407861873e-05,\n",
       " 'knowledge': 1.2073097318445406e-05,\n",
       " 'obtained': 1.0696124048553089e-05,\n",
       " 'which': 9.604090575729254e-06,\n",
       " 'probabilistic': 9.05297798266353e-06,\n",
       " 'vectors': 7.230989857761729e-06,\n",
       " 'performance': 6.794612096917258e-06,\n",
       " 'syntactic': 5.873095835491063e-06,\n",
       " 'embeddings': 5.8065161444659455e-06,\n",
       " 'boost': 4.901334900477198e-06,\n",
       " 'sentiment': 3.3298549433719997e-06,\n",
       " 'or': 3.2111585597759436e-06,\n",
       " 'been': 3.18903531748111e-06,\n",
       " 'base': 2.773948514010534e-06,\n",
       " 'similar': 2.740881242653152e-06,\n",
       " 'explicit': 2.487870071999238e-06,\n",
       " 'real': 2.2709855697282014e-06,\n",
       " 'phrases': 2.1710752794893437e-06,\n",
       " 'vocabulary': 2.1589050458144283e-06,\n",
       " 'closer': 1.8667689362160392e-06,\n",
       " 'have': 1.6339367756870115e-06,\n",
       " 'modeling': 1.2694167490745732e-06,\n",
       " 'phrase': 1.2036891742137097e-06,\n",
       " 'to': 7.66610538637828e-07,\n",
       " 'shown': 5.707102108255221e-07,\n",
       " 'text': 5.255830800864432e-07,\n",
       " 'parsing': 4.462006671637094e-07,\n",
       " 'learning': 4.115306648314256e-07,\n",
       " 'techniques': 3.624421986603288e-07,\n",
       " 'appearword': 2.249740953675372e-07,\n",
       " 'and': 2.0655727121143188e-07,\n",
       " 'representation': 1.5466761018144606e-07,\n",
       " 'expected': 1.2776553030049028e-07,\n",
       " 'space': 1.0485716191893158e-07,\n",
       " 'from': 1.000892701066629e-07,\n",
       " 'analysis': 6.147177505681812e-08,\n",
       " 'method': 4.4937540808250645e-08,\n",
       " 'mapped': 3.6947317953792674e-08,\n",
       " 'be': 2.5415380923253877e-08,\n",
       " 'where': 2.2899256212859586e-08,\n",
       " 'feature': 2.071967127636405e-08,\n",
       " 'words': 1.9587522838108373e-08,\n",
       " 'meaningword': 1.9037293999572607e-08,\n",
       " 'are': 1.6183729602602784e-08}"
      ]
     },
     "execution_count": 22,
     "metadata": {},
     "output_type": "execute_result"
    }
   ],
   "source": [
    "test = one_hot_encode(word_to_idx['embedding'], len(word_to_idx))\n",
    "# the test word is a python list so we need to transform it into a numpy array \n",
    "# with shape of 2 dimensional using the expand_dims() function \n",
    "test = np.expand_dims(np.array(test), 0)\n",
    "\n",
    "result = model.predict(test)\n",
    "\n",
    "probabilities = {\n",
    "    idx_to_word[idx]: result[0][idx]\n",
    "    for idx in np.argsort(result[0])[::-1]\n",
    "}\n",
    "\n",
    "probabilities"
   ]
  },
  {
   "cell_type": "code",
   "execution_count": 23,
   "metadata": {},
   "outputs": [
    {
     "data": {
      "text/plain": [
       "array([-1.14456481,  0.47677989,  2.36265608,  0.93780352,  1.2004058 ,\n",
       "        1.16412415, -1.40945313,  0.05982977,  0.58405651, -0.35569287])"
      ]
     },
     "execution_count": 23,
     "metadata": {},
     "output_type": "execute_result"
    }
   ],
   "source": [
    "def get_embedding(word, model):\n",
    "    word_onehot = one_hot_encode(word_to_idx[word], len(word_to_idx))\n",
    "    return np.dot(word_onehot, model.w1)\n",
    "\n",
    "\n",
    "# get the embedding vector or the dense vector of the word 'machine' with 10 dimensional\n",
    "get_embedding('embedding', model)"
   ]
  }
 ],
 "metadata": {
  "interpreter": {
   "hash": "a411cb9e952067e4fc0ae831ac6904116a98c8dfd04198addbf380ce6bea4dc2"
  },
  "kernelspec": {
   "display_name": "Python 3.10.7 ('DLvenv': venv)",
   "language": "python",
   "name": "python3"
  },
  "language_info": {
   "codemirror_mode": {
    "name": "ipython",
    "version": 3
   },
   "file_extension": ".py",
   "mimetype": "text/x-python",
   "name": "python",
   "nbconvert_exporter": "python",
   "pygments_lexer": "ipython3",
   "version": "3.10.7"
  },
  "orig_nbformat": 4
 },
 "nbformat": 4,
 "nbformat_minor": 2
}
