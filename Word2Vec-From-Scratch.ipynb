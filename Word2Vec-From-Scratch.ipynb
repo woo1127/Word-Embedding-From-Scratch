{
 "cells": [
  {
   "cell_type": "markdown",
   "metadata": {},
   "source": [
    "##### This tutorial is refer to https://jaketae.github.io/study/word2vec/"
   ]
  },
  {
   "cell_type": "code",
   "execution_count": 1,
   "metadata": {},
   "outputs": [],
   "source": [
    "import numpy as np\n",
    "import string\n",
    "import matplotlib.pyplot as plt\n",
    "\n",
    "%matplotlib inline\n",
    "plt.style.use('seaborn')\n",
    "\n",
    "np.random.seed(1011)\n",
    "np.set_printoptions(suppress=True)"
   ]
  },
  {
   "cell_type": "code",
   "execution_count": 2,
   "metadata": {},
   "outputs": [],
   "source": [
    "text = '''Machine learning is the study of computer algorithms that \\\n",
    "improve automatically through experience. It is seen as a \\\n",
    "subset of artificial intelligence. Machine learning algorithms \\\n",
    "build a mathematical model based on sample data, known as \\\n",
    "training data, in order to make predictions or decisions without \\\n",
    "being explicitly programmed to do so. Machine learning algorithms \\\n",
    "are used in a wide variety of applications, such as email filtering \\\n",
    "and computer vision, where it is difficult or infeasible to develop \\\n",
    "conventional algorithms to perform the needed tasks.'''"
   ]
  },
  {
   "cell_type": "code",
   "execution_count": 3,
   "metadata": {},
   "outputs": [],
   "source": [
    "def tokenize(input_string):\n",
    "    '''\n",
    "    Tokenize the training data. Punctuation is removed and \n",
    "    each words in the training data is split as a elements in a list.\n",
    "    '''\n",
    "    tokens = ''.join([char \n",
    "                        for char in input_string.lower() \n",
    "                        if char not in string.punctuation])\n",
    "    return tokens.split(' ')\n",
    "\n",
    "def text_dictionary(tokens):\n",
    "    '''\n",
    "    Create two dictionary named word_to_idx and idx_to_word.\n",
    "    In word_to_idx each word is as key with a assigned unique id as value.\n",
    "    idx_to_word is same as word_to_idx except that id is as key and word as value\n",
    "    '''\n",
    "    word_to_idx = {}\n",
    "    idx_to_word = {}\n",
    "\n",
    "    # turn the tokens into set before looping to remove duplicate words\n",
    "    for i, token in enumerate(set(tokens)):\n",
    "        word_to_idx[token] = i\n",
    "        idx_to_word[i] = token\n",
    "\n",
    "    return word_to_idx, idx_to_word\n",
    "\n",
    "def concat(*iterables):\n",
    "    for iterable in iterables:\n",
    "        yield from iterable\n",
    "\n",
    "def one_hot_encode(id, vocab_size):\n",
    "    '''\n",
    "    Transform a word into one-hot representation\n",
    "    '''\n",
    "    # A list with the same length as vocab_size is initialize with all zeros elements\n",
    "    # except value of the corresponding index of word is 1\n",
    "    res = [0] * vocab_size\n",
    "    res[id] = 1\n",
    "    return res\n",
    "\n",
    "def generate_training_data(tokens, word_to_idx, window):\n",
    "    '''\n",
    "    Generate x, y dataset for our skip-gram model.\n",
    "    x and y are both the one-hot representation of words.\n",
    "    '''\n",
    "    x, y = [], []\n",
    "    n_tokens = len(tokens)\n",
    "\n",
    "    for i in range(n_tokens):\n",
    "        idx = concat(\n",
    "            range(max(0, i - window), i),\n",
    "            range(i, min(n_tokens, i + window + 1))\n",
    "        )\n",
    "        for j in idx:\n",
    "            if i == j:\n",
    "                continue\n",
    "            x.append(one_hot_encode(word_to_idx[tokens[i]], len(word_to_idx)))\n",
    "            y.append(one_hot_encode(word_to_idx[tokens[j]], len(word_to_idx)))\n",
    "\n",
    "    return np.asarray(x), np.asarray(y)"
   ]
  },
  {
   "cell_type": "code",
   "execution_count": 4,
   "metadata": {},
   "outputs": [
    {
     "data": {
      "text/plain": [
       "((330, 60), (330, 60))"
      ]
     },
     "execution_count": 4,
     "metadata": {},
     "output_type": "execute_result"
    }
   ],
   "source": [
    "tokens = tokenize(text)\n",
    "word_to_idx, idx_to_word = text_dictionary(tokens)\n",
    "x, y = generate_training_data(tokens, word_to_idx, 2)\n",
    "\n",
    "x.shape, y.shape"
   ]
  },
  {
   "cell_type": "markdown",
   "metadata": {},
   "source": [
    "Forward:\n",
    "\n",
    "&nbsp;&nbsp;&nbsp;&nbsp; $A_1 = X W_1$ <br>\n",
    "&nbsp;&nbsp;&nbsp;&nbsp; $A_2 = A_1 W_2$ <br>\n",
    "&nbsp;&nbsp;&nbsp;&nbsp; $Z = Softmax(A_2)$\n",
    "\n",
    "Backward: \n",
    "##### &nbsp;&nbsp;&nbsp;&nbsp; $\\frac{dL}{dW_2} = \\frac{dL}{dZ} \\frac{dZ}{dA_2} \\frac{dA_2}{dW_2} = (Z - Y) * A_1$\n",
    "##### &nbsp;&nbsp;&nbsp;&nbsp; $\\frac{dL}{dW_1} = \\frac{dL}{dZ} \\frac{dZ}{dA_2} \\frac{dA_2}{dA_1} \\frac{dA_1}{dW_1} = (Z - Y) * W_2 * X$\n"
   ]
  },
  {
   "cell_type": "code",
   "execution_count": 5,
   "metadata": {},
   "outputs": [],
   "source": [
    "class SkipGram:\n",
    "\n",
    "    def __init__(self, vocab_size, n_embedding):\n",
    "        self.loss_history = []\n",
    "        self.vocab_size = vocab_size\n",
    "        self.n_embedding = n_embedding\n",
    "\n",
    "    def init_weights(self):\n",
    "        self.w1 = np.random.randn(self.vocab_size, self.n_embedding)\n",
    "        self.w2 = np.random.randn(self.n_embedding, self.vocab_size)\n",
    "\n",
    "    def softmax(self, z):\n",
    "        # minus z by the max of z for number stability\n",
    "        # keepdims is set to true to unchange the dimensional of array\n",
    "        exp = np.exp(z - np.max(z, axis=1, keepdims=True))\n",
    "        return exp / np.sum(exp, axis=1, keepdims=True)\n",
    "\n",
    "    def forward(self, x):\n",
    "        self.a1 = np.dot(x, self.w1)\n",
    "        self.a2 = np.dot(self.a1, self.w2)\n",
    "        self.z = self.softmax(self.a2)\n",
    "        return self.z\n",
    "\n",
    "    def backward(self, x, y):\n",
    "        self.da2 = self.z - y\n",
    "        self.dw2 = np.dot(self.a1.T, self.da2)\n",
    "        self.da1 = np.dot(self.da2, self.w2.T)\n",
    "        self.dw1 = np.dot(x.T, self.da1)\n",
    "\n",
    "    def update(self, lr): # SGD\n",
    "        self.w1 -= lr * self.dw1\n",
    "        self.w2 -= lr * self.dw2\n",
    "\n",
    "    def loss(self, y, m): # cross_entropy\n",
    "        self.loss_history.append(- np.sum(np.log(self.z) * y) / m)\n",
    "\n",
    "    def fit(self, x, y, epochs, lr):\n",
    "        m = x.shape[0]\n",
    "        self.init_weights()\n",
    "        for _ in range(epochs):\n",
    "            self.forward(x)\n",
    "            self.backward(x, y)\n",
    "            self.update(lr)\n",
    "            self.loss(y, m)\n",
    "\n",
    "    def predict(self, x):\n",
    "        return self.forward(x)"
   ]
  },
  {
   "cell_type": "code",
   "execution_count": 6,
   "metadata": {},
   "outputs": [],
   "source": [
    "epochs = 50\n",
    "lr = 0.05\n",
    "\n",
    "model = SkipGram(x.shape[1], 10)\n",
    "model.fit(x, y, epochs, lr)"
   ]
  },
  {
   "cell_type": "code",
   "execution_count": 7,
   "metadata": {},
   "outputs": [
    {
     "data": {
      "image/png": "[encoded data removed]",
      "text/plain": [
       "<Figure size 800x550 with 1 Axes>"
      ]
     },
     "metadata": {},
     "output_type": "display_data"
    }
   ],
   "source": [
    "plt.plot(range(epochs), model.loss_history, color='orange')\n",
    "plt.xlabel('Loss')\n",
    "plt.ylabel('Epochs')\n",
    "plt.show()"
   ]
  },
  {
   "cell_type": "code",
   "execution_count": 8,
   "metadata": {},
   "outputs": [
    {
     "data": {
      "text/plain": [
       "{'learning': 0.480536778330845,\n",
       " 'algorithms': 0.3377688194815053,\n",
       " 'is': 0.04542697793625788,\n",
       " 'intelligence': 0.03825155926886143,\n",
       " 'do': 0.027287580928447856,\n",
       " 'so': 0.02282451670957325,\n",
       " 'artificial': 0.014240955717934366,\n",
       " 'are': 0.006296404552276763,\n",
       " 'machine': 0.0037677230997890877,\n",
       " 'to': 0.0036699805006715205,\n",
       " 'needed': 0.00292013645507799,\n",
       " 'programmed': 0.002815890575169761,\n",
       " 'being': 0.0023342167074187677,\n",
       " 'of': 0.0015817512750700147,\n",
       " 'build': 0.001407028567445236,\n",
       " 'model': 0.0010401574189153229,\n",
       " 'without': 0.0008175923964334867,\n",
       " 'the': 0.0007854256240546598,\n",
       " 'subset': 0.0007465884357408007,\n",
       " 'explicitly': 0.0006288989419035226,\n",
       " 'conventional': 0.0005557128246791514,\n",
       " 'a': 0.0004955721352956547,\n",
       " 'develop': 0.00045790368374138736,\n",
       " 'in': 0.00040927299431138775,\n",
       " 'perform': 0.0003861240205624182,\n",
       " 'decisions': 0.0003207156488865791,\n",
       " 'variety': 0.0003037779141912633,\n",
       " 'make': 0.0002692340875681742,\n",
       " 'through': 0.00026401451081170264,\n",
       " 'automatically': 0.00026057700143906714,\n",
       " 'infeasible': 0.00018428819366172672,\n",
       " 'mathematical': 0.00017883259791030585,\n",
       " 'based': 0.0001784013828257641,\n",
       " 'tasks': 0.00014492215865363533,\n",
       " 'used': 9.532948498146293e-05,\n",
       " 'such': 7.225944361722061e-05,\n",
       " 'order': 5.5829788272369935e-05,\n",
       " 'improve': 4.692667340271931e-05,\n",
       " 'or': 3.391721705329609e-05,\n",
       " 'on': 2.5060344296492155e-05,\n",
       " 'wide': 2.327815509253173e-05,\n",
       " 'seen': 1.628424133971968e-05,\n",
       " 'that': 1.3854536770272314e-05,\n",
       " 'vision': 8.592161768708577e-06,\n",
       " 'computer': 8.317797865381989e-06,\n",
       " 'applications': 8.298834970294182e-06,\n",
       " 'predictions': 7.571784953541365e-06,\n",
       " 'data': 6.287723747123233e-06,\n",
       " 'it': 5.870644207342977e-06,\n",
       " 'study': 4.994061630672863e-06,\n",
       " 'where': 3.246658992348357e-06,\n",
       " 'sample': 2.4059011866015967e-06,\n",
       " 'email': 8.456571248855605e-07,\n",
       " 'known': 7.121555468213972e-07,\n",
       " 'filtering': 5.725933170821598e-07,\n",
       " 'difficult': 5.057502999327775e-07,\n",
       " 'experience': 3.111210229402452e-07,\n",
       " 'training': 2.4433904182746425e-07,\n",
       " 'and': 8.601241586908225e-08,\n",
       " 'as': 6.483915239431316e-08}"
      ]
     },
     "execution_count": 8,
     "metadata": {},
     "output_type": "execute_result"
    }
   ],
   "source": [
    "test = one_hot_encode(word_to_idx['machine'], len(word_to_idx))\n",
    "# the test word is a python list so we need to transform it into a numpy array \n",
    "# with shape of 2 dimensional using the expand_dims() function \n",
    "test = np.expand_dims(np.array(test), 0)\n",
    "\n",
    "result = model.predict(test)\n",
    "\n",
    "probabilities = {\n",
    "    idx_to_word[idx]: result[0][idx]\n",
    "    for idx in np.argsort(result[0])[::-1]\n",
    "}\n",
    "\n",
    "probabilities"
   ]
  },
  {
   "cell_type": "code",
   "execution_count": 10,
   "metadata": {},
   "outputs": [
    {
     "data": {
      "text/plain": [
       "array([-0.37696774,  0.4015686 , -0.38470064,  0.22110738, -0.40148735,\n",
       "       -1.35793723, -0.71099678,  1.3348571 ,  1.04877304,  1.91710006])"
      ]
     },
     "execution_count": 10,
     "metadata": {},
     "output_type": "execute_result"
    }
   ],
   "source": [
    "def get_embedding(word, model):\n",
    "    word_onehot = one_hot_encode(word_to_idx[word], len(word_to_idx))\n",
    "    return np.dot(word_onehot, model.w1)\n",
    "\n",
    "\n",
    "# get the embedding vector or the dense vector of the word 'machine' with 10 dimensional\n",
    "get_embedding('machine', model)"
   ]
  }
 ],
 "metadata": {
  "interpreter": {
   "hash": "a411cb9e952067e4fc0ae831ac6904116a98c8dfd04198addbf380ce6bea4dc2"
  },
  "kernelspec": {
   "display_name": "Python 3.10.7 ('DLvenv': venv)",
   "language": "python",
   "name": "python3"
  },
  "language_info": {
   "codemirror_mode": {
    "name": "ipython",
    "version": 3
   },
   "file_extension": ".py",
   "mimetype": "text/x-python",
   "name": "python",
   "nbconvert_exporter": "python",
   "pygments_lexer": "ipython3",
   "version": "3.10.7"
  },
  "orig_nbformat": 4
 },
 "nbformat": 4,
 "nbformat_minor": 2
}
